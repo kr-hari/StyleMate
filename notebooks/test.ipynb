{
 "cells": [
  {
   "cell_type": "code",
   "execution_count": 2,
   "metadata": {},
   "outputs": [],
   "source": [
    "import pandas as pd\n",
    "import numpy as np\n",
    "import sys\n",
    "\n",
    "sys.path.insert(1, '../')"
   ]
  },
  {
   "cell_type": "code",
   "execution_count": 20,
   "metadata": {},
   "outputs": [],
   "source": [
    "import os\n",
    "os.chdir('../')"
   ]
  },
  {
   "cell_type": "code",
   "execution_count": 26,
   "metadata": {},
   "outputs": [],
   "source": [
    "import pandas as pd\n",
    "import numpy as np\n",
    "import pdb\n",
    "from tqdm import tqdm\n",
    "import nltk\n",
    "import string\n",
    "import pickle \n",
    "import yaml\n",
    "import os\n",
    "import torch \n",
    "\n",
    "from sentence_transformers import SentenceTransformer\n",
    "\n",
    "from nltk import word_tokenize\n",
    "from nltk.corpus import stopwords\n",
    "from nltk.stem.porter import PorterStemmer\n",
    "from nltk.stem import WordNetLemmatizer\n",
    "\n",
    "import pickle\n"
   ]
  },
  {
   "cell_type": "code",
   "execution_count": 27,
   "metadata": {},
   "outputs": [],
   "source": [
    "CONFIG_FILE = 'config.yaml'\n",
    "\n",
    "def text_preprocessing(text: str):\n",
    "    \n",
    "    # Lowercase\n",
    "    text = text.lower()\n",
    "    # Remove Punctuation\n",
    "    # text = \"\".join([char for char in text if char not in string.punctuation])\n",
    "    words = word_tokenize(text)  \n",
    "    # Remove Stopwords\n",
    "    stop_words = stopwords.words('english')\n",
    "    filtered_words = [word for word in words if word not in stop_words]\n",
    "    ## Stemming\n",
    "    # porter = PorterStemmer()\n",
    "    # stemmed = [porter.stem(word) for word in filtered_words]\n",
    "    # Lemmatization\n",
    "    lemmatizer = WordNetLemmatizer()\n",
    "    lemmatized = [lemmatizer.lemmatize(word) for word in filtered_words]\n",
    "    \n",
    "    return ' '.join(lemmatized)\n",
    "\n",
    "def get_data_from_file(filename:str):\n",
    "\n",
    "    with open(filename, 'rb') as file:\n",
    "        data = pickle.load(file)\n",
    "    return data\n",
    "\n",
    "\n",
    "def get_top_n_indices(array, top_n):\n",
    "    return array.argsort()[-top_n:][::-1]"
   ]
  },
  {
   "cell_type": "code",
   "execution_count": 112,
   "metadata": {},
   "outputs": [],
   "source": [
    "class Recommender():\n",
    "\n",
    "    def __init__(self, primary_column:str = 'title', top_n:int = 10) -> None:\n",
    "\n",
    "        # Open the configuration file to load parameters\n",
    "        with open(CONFIG_FILE, \"r\") as file:\n",
    "            try:\n",
    "                self.params = yaml.safe_load(file)\n",
    "            except yaml.YAMLError as exc:\n",
    "                print(exc)\n",
    "        \n",
    "        self.top_n = top_n\n",
    "        self.primary_column = primary_column\n",
    "        metadata_file = self.params['METADATA_FILE']\n",
    "        self.metadata = pd.read_csv(metadata_file, index_col=0)\n",
    "        self.preprocess_metadata()\n",
    "        print(\"INFO: Initializing Model\")\n",
    "        self.model = SentenceTransformer('msmarco-distilbert-base-dot-prod-v3')\n",
    "        print(\"INFO: Creating embeddings\")\n",
    "        self.embeddings = self.get_embeddings(column=primary_column)\n",
    "        # self.product_feature_positiveness = get_data_from_file(self.params['product_feature_ratings'])\n",
    "\n",
    "\n",
    "    def preprocess_metadata(self) -> None:\n",
    "\n",
    "        self.metadata['description'] = self.metadata['description'].apply(lambda x: text_preprocessing(eval(x)[0]))\n",
    "\n",
    "    def get_embeddings(self, column) -> np.array:\n",
    "\n",
    "        # If embedding is locally saved already, load it \n",
    "        try:\n",
    "            with open(self.params['EMBEDDING_FILE'], 'rb') as file:\n",
    "                embeddings = pickle.load(file)\n",
    "            print(\"INFO : Loaded Product Embeddings\")\n",
    "            return embeddings\n",
    "        \n",
    "        # If embedding is not locally available, create embeddings\n",
    "        except:\n",
    "            print(\"INFO : Creating Embeddings\")\n",
    "            if torch.cuda.is_available():\n",
    "                embeddings = self.model.encode(self.metadata[column].tolist(), device='cuda') \n",
    "            else:\n",
    "                embeddings = self.model.encode(self.metadata[column].tolist())\n",
    "            embeddings = np.asarray(embeddings.astype('float32'))   \n",
    "            \n",
    "            print(\"INFO: Saving embeddings\")\n",
    "            if not os.path.exists(os.path.dirname(self.params['EMBEDDING_FILE'])):\n",
    "                os.mkdir(os.path.dirname(self.params['EMBEDDING_FILE']))\n",
    "            with open(self.params['EMBEDDING_FILE'],'wb') as file:\n",
    "                pickle.dump(embeddings, file, protocol=pickle.HIGHEST_PROTOCOL)\n",
    "\n",
    "            return embeddings\n",
    "\n",
    "    def return_most_similar(self, query):\n",
    "\n",
    "        print(\"INFO: Retrieving items for query\")\n",
    "        query_vector = self.model.encode([query])\n",
    "        similarity = np.dot(self.embeddings,query_vector.T)\n",
    "        top_items = similarity.flatten().argsort()[-self.top_n:][::-1]\n",
    "        print(self.metadata['title'].iloc[top_items])\n",
    "        return list(top_items), list(self.metadata['title'].iloc[top_items])\n",
    "\n",
    "\n",
    "    def character_similarity(self, character_list:list, subset_indices:list, method:int = 1):\n",
    "\n",
    "        # Method 1 - Join all characteristics to make an expanded query\n",
    "        if method == 1 :\n",
    "            character_query = ' '.join(character_list)\n",
    "            character_query_vector = self.model.encode(character_query)\n",
    "            similarity = np.dot(self.embeddings[subset_indices],character_query_vector.T)\n",
    "            # top_items =  get_top_n_indices(similarity.flatten(), self.top_n)       \n",
    "            return similarity / np.linalg.norm(similarity)\n",
    "\n",
    "        # Method 2 - Rank items based on individual characteristics\n",
    "        elif method == 2:\n",
    "            similarity_list =[]\n",
    "            for characteristic in character_list:\n",
    "                character_vector = self.model.encode(characteristic)\n",
    "                similarity = np.dot(self.embeddings[subset_indices],character_vector.T)\n",
    "                # top_items_list.append(get_top_n_indices(similarity.flatten(), top_n=200)) \n",
    "                similarity_list.append(similarity.flatten() / np.linalg.norm(similarity.flatten())) \n",
    "            agg_similarity = np.array(similarity_list).mean(axis=0)\n",
    "            return agg_similarity\n",
    "        \n",
    "    def feature_similarity(self, feature_imp):\n",
    "\n",
    "        agg_feature_poitiveness = np.zeros(self.product_feature_positiveness.shape()[0])\n",
    "        for ind, imp in enumerate(feature_imp):\n",
    "            agg_feature_poitiveness += imp*self.product_feature_positiveness[ind]\n",
    "        return agg_feature_poitiveness\n",
    "\n",
    "\n",
    "    def return_most_similar_v1(self, query:str, character_list:list, character_method:int, feature_imp:list = None):\n",
    "\n",
    "        print(\"INFO: Retrieving items for query\")\n",
    "        query_vector = self.model.encode([query + ' '.join(character_list)])\n",
    "        query_similarity = np.dot(self.embeddings,query_vector.T).flatten()\n",
    "        query_similarity  /= np.linalg.norm(query_similarity)\n",
    "        final_similarity = query_similarity\n",
    "        indices = get_top_n_indices(final_similarity, 10)\n",
    "        # character_similarity = self.character_similarity(character_list, method=1)\n",
    "        # feature_similarity = self.feature_similarity(feature_imp)\n",
    "\n",
    "        return indices\n",
    "                 \n",
    "\n",
    "    def get_top_items_for_features(top_n):\n",
    "        \n",
    "        self\n",
    "        final_product_embeddings = self.product_feature_ratings.mean(axis=1)\n",
    "        top_item_ind = get_top_n_indices(final_product_embeddings, top_n=5)\n",
    "        return top_item_ind"
   ]
  },
  {
   "cell_type": "code",
   "execution_count": 113,
   "metadata": {},
   "outputs": [
    {
     "name": "stdout",
     "output_type": "stream",
     "text": [
      "INFO: Initializing Model\n",
      "INFO: Creating embeddings\n",
      "INFO : Loaded Product Embeddings\n"
     ]
    }
   ],
   "source": [
    "recommender = Recommender(primary_column='description')\n"
   ]
  },
  {
   "cell_type": "code",
   "execution_count": 104,
   "metadata": {},
   "outputs": [
    {
     "data": {
      "text/plain": [
       "[\"Fangsto Women's Cowhide Leather Loafers Flats Sandals Slip-On\",\n",
       " \"Skechers USA Men's Caswell Oxford\",\n",
       " \"Roper Women's Lace and Underlay Western Boot\",\n",
       " \"Jambu Women's Pecan Mary Jane Flat\",\n",
       " \"KEEN Women's Terradora Mid Wp-w Hiking Boot\",\n",
       " \"JARO VEGA Women's Soft Goatskin Genuine Leather Pumps Slender Block Heel Closed Almond Toe Dress Shoes\",\n",
       " \"FRYE Women's Patty Artisan Zip Bootie\",\n",
       " \"ECCO Men's Soft 7 Fashion Sneaker\",\n",
       " \"Easy Spirit Women's Realflex Walking Shoe\",\n",
       " \"ASICS Women's GT-2000 3 Running Shoe\"]"
      ]
     },
     "execution_count": 104,
     "metadata": {},
     "output_type": "execute_result"
    }
   ],
   "source": [
    "query = 'Women leather shoes'\n",
    "\n",
    "# Query similarity\n",
    "query_similarity = np.dot(recommender.embeddings,recommender.model.encode([query]).T).flatten()\n",
    "query_similarity  /= np.linalg.norm(query_similarity)\n",
    "\n",
    "query_top_20 = get_top_n_indices(query_similarity, 20)\n",
    "# indices = get_top_n_indices(final_similarity, 20)\n",
    "\n",
    "character_list = ['Women', 'Leather']\n",
    "character_similarity = recommender.character_similarity(character_list=character_list, subset_indices=query_top_20, method=1)\n",
    "\n",
    "final_similarity = character_similarity\n",
    "sub_indices = get_top_n_indices(final_similarity, 10)\n",
    "main_indices = query_top_20[sub_indices]\n",
    "recommender.metadata['title'].iloc[main_indices].to_list()"
   ]
  },
  {
   "cell_type": "code",
   "execution_count": 115,
   "metadata": {},
   "outputs": [
    {
     "name": "stdout",
     "output_type": "stream",
     "text": [
      "INFO: Retrieving items for query\n"
     ]
    },
    {
     "data": {
      "text/plain": [
       "['SoftSpots Perri Women&rsquo;s Slip-On',\n",
       " \"Blue Q Men's Crew Socks - Fits Men's Shoe Size 7-12\",\n",
       " \"Lacoste Men's Malahini Deck 316 1 Spm Fashion Sneaker\",\n",
       " 'In Touch Bamboo Above The Knee Skirt',\n",
       " \"Clarks Women's Daelyn Summit Slip-On Loafer\",\n",
       " \"Luichiny Women's Case Closed Snow Boot\",\n",
       " \"Steve Madden Women's Pierce Ankle Bootie\",\n",
       " \"Muck Boot Women's Breezy Low Boot\",\n",
       " \"Skechers Sport Women's Scene Stealer Fashion Sneaker\",\n",
       " 'Soft Jersey Blend Sleep Hat Comfortable Soft Hat Liner Beanie Skull Cap Chemo Hair Loss Head Covering']"
      ]
     },
     "execution_count": 115,
     "metadata": {},
     "output_type": "execute_result"
    }
   ],
   "source": [
    "query = \"Women's shoes\"\n",
    "character_list = ['Shiny', 'Sexy', 'Black']\n",
    "recommender.metadata['title'].iloc[recommender.return_most_similar_v1(query=query, character_list=character_list, character_method=1)].to_list()"
   ]
  },
  {
   "cell_type": "code",
   "execution_count": 97,
   "metadata": {},
   "outputs": [
    {
     "data": {
      "text/plain": [
       "array([4266, 1967, 1929, 4669, 4094, 2543, 2580,  896, 1814, 4878])"
      ]
     },
     "execution_count": 97,
     "metadata": {},
     "output_type": "execute_result"
    }
   ],
   "source": [
    "main_indices"
   ]
  },
  {
   "cell_type": "code",
   "execution_count": 116,
   "metadata": {},
   "outputs": [
    {
     "data": {
      "text/plain": [
       "[1, 2, 3, 4, 5, 6, 7]"
      ]
     },
     "execution_count": 116,
     "metadata": {},
     "output_type": "execute_result"
    }
   ],
   "source": [
    "l = [1,2,3,4,5,6,7]\n",
    "l[:100]"
   ]
  },
  {
   "cell_type": "code",
   "execution_count": 80,
   "metadata": {},
   "outputs": [
    {
     "data": {
      "text/plain": [
       "['Crocs A Leigh 2-Strap Miniwedge',\n",
       " \"Womens Soft Leather Cigarette Case Holds Regular and 100's USA Made\",\n",
       " \"Cole Haan Men's Calhoun Lace-Up Derby Shoe\",\n",
       " \"Geox Men's Federico 9 Shoe\",\n",
       " \"Skechers USA Men's Caswell Oxford\",\n",
       " 'Woly German Suede Nubuck Brush 5&quot; Removes Dirt &amp; Stains on Designer Shoes, Boots, Handbags, Clothes.',\n",
       " \"Birkenstock Women's Madrid Birko-Flor Sandal\",\n",
       " \"Lucky Women's Galvann\",\n",
       " 'Collonil Nubuck + Velours/Suede Waterproof Protector Repellent Spray, 200 ml',\n",
       " \"Fangsto Women's Cowhide Leather Loafers Flats Sandals Slip-On\"]"
      ]
     },
     "execution_count": 80,
     "metadata": {},
     "output_type": "execute_result"
    }
   ],
   "source": [
    "recommender.metadata['title'].iloc[get_top_n_indices(character_similarity, 10)].to_list()"
   ]
  },
  {
   "cell_type": "code",
   "execution_count": 81,
   "metadata": {},
   "outputs": [
    {
     "data": {
      "text/plain": [
       "['SoftSpots Perri Women&rsquo;s Slip-On',\n",
       " \"Lacoste Men's Malahini Deck 316 1 Spm Fashion Sneaker\",\n",
       " \"Rocket Dog Women's Rainy Rubber Rain Boot\",\n",
       " \"Clarks Women's Blanche Nora Ballet Flat\",\n",
       " \"Bloch Dance Women's Jazzsoft Split Sole Leather Jazz Shoe\",\n",
       " 'Teva Scamper Water Shoe (Toddler/Little Kid/Big Kid)',\n",
       " \"Ollio Women's Shoe Cross Braided Multi Color Flat Sandal\",\n",
       " 'Adidas Pretereo 2 Wrestling Shoes - Collegiate Royal/White/Black',\n",
       " \"Dr. Martens Men's Octavius Lace Shoe\",\n",
       " \"New Balance Women's Minimus Sport Spikeless Golf Shoe\"]"
      ]
     },
     "execution_count": 81,
     "metadata": {},
     "output_type": "execute_result"
    }
   ],
   "source": [
    "recommender.metadata['title'].iloc[get_top_n_indices(query_similarity, 10)].to_list()"
   ]
  },
  {
   "cell_type": "code",
   "execution_count": 35,
   "metadata": {},
   "outputs": [],
   "source": [
    "import pandas as pd\n",
    "import numpy as np\n",
    "\n",
    "metadata = pd.read_csv('../Project_Data/Metadata.csv', index_col=0)\n",
    "metadata['product_detail'] = metadata['title'] + ' ' + metadata['category'].apply(lambda x: ' '.join(eval(x)[1:])) + ' ' + metadata['description'] + ' ' + metadata['feature'].apply(lambda x: ' '.join(eval(x)[:4]))\n",
    "metadata.to_csv('../Project_Data/Metadata_W_Product_detail.csv')"
   ]
  },
  {
   "cell_type": "code",
   "execution_count": 4,
   "metadata": {},
   "outputs": [
    {
     "data": {
      "text/html": [
       "<div>\n",
       "<style scoped>\n",
       "    .dataframe tbody tr th:only-of-type {\n",
       "        vertical-align: middle;\n",
       "    }\n",
       "\n",
       "    .dataframe tbody tr th {\n",
       "        vertical-align: top;\n",
       "    }\n",
       "\n",
       "    .dataframe thead th {\n",
       "        text-align: right;\n",
       "    }\n",
       "</style>\n",
       "<table border=\"1\" class=\"dataframe\">\n",
       "  <thead>\n",
       "    <tr style=\"text-align: right;\">\n",
       "      <th></th>\n",
       "      <th>Unnamed: 0</th>\n",
       "      <th>category</th>\n",
       "      <th>tech1</th>\n",
       "      <th>description</th>\n",
       "      <th>fit</th>\n",
       "      <th>title</th>\n",
       "      <th>also_buy</th>\n",
       "      <th>image</th>\n",
       "      <th>tech2</th>\n",
       "      <th>brand</th>\n",
       "      <th>feature</th>\n",
       "      <th>rank</th>\n",
       "      <th>also_view</th>\n",
       "      <th>details</th>\n",
       "      <th>main_cat</th>\n",
       "      <th>similar_item</th>\n",
       "      <th>date</th>\n",
       "      <th>price</th>\n",
       "      <th>asin</th>\n",
       "    </tr>\n",
       "  </thead>\n",
       "  <tbody>\n",
       "    <tr>\n",
       "      <th>4895</th>\n",
       "      <td>47670</td>\n",
       "      <td>['Clothing, Shoes &amp; Jewelry', 'Women', 'Shoes'...</td>\n",
       "      <td>NaN</td>\n",
       "      <td>['The iconic chuck taylor all star high top sn...</td>\n",
       "      <td>class=\"a-normal a-align-center a-spacing-smal...</td>\n",
       "      <td>Converse Women's Chuck Taylor All Star Leather...</td>\n",
       "      <td>['B074V4DTPL', 'B0774PWGRQ', 'B07BS1P8T5', 'B0...</td>\n",
       "      <td>['https://images-na.ssl-images-amazon.com/imag...</td>\n",
       "      <td>NaN</td>\n",
       "      <td>NaN</td>\n",
       "      <td>['100% Leather', 'Imported', 'Rubber sole', 'S...</td>\n",
       "      <td>31,038 in Clothing, Shoes &amp; Jewelry (</td>\n",
       "      <td>['B078J5W5Z2', 'B074V4DTPL', 'B0741XXSRZ', 'B0...</td>\n",
       "      <td>{}</td>\n",
       "      <td>&lt;img src=\"https://images-na.ssl-images-amazon....</td>\n",
       "      <td>NaN</td>\n",
       "      <td>&lt;div class=\"a-fixed-left-grid a-spacing-none\"&gt;...</td>\n",
       "      <td>$44.49 - $135.47</td>\n",
       "      <td>B007PBF3B8</td>\n",
       "    </tr>\n",
       "    <tr>\n",
       "      <th>458</th>\n",
       "      <td>43530</td>\n",
       "      <td>['Clothing, Shoes &amp; Jewelry', 'Women', 'Handba...</td>\n",
       "      <td>NaN</td>\n",
       "      <td>['No matter the weather, this durable tote is ...</td>\n",
       "      <td>NaN</td>\n",
       "      <td>Deluxe Canvas Tote Bag</td>\n",
       "      <td>['B07BQXC688', 'B07DM4K3CY', 'B0027A7K2C', 'B0...</td>\n",
       "      <td>['https://images-na.ssl-images-amazon.com/imag...</td>\n",
       "      <td>NaN</td>\n",
       "      <td>Ensign Peak</td>\n",
       "      <td>['22 inch handles', 'Interoir zippered pocket'...</td>\n",
       "      <td>380,644 in Clothing, Shoes &amp; Jewelry (</td>\n",
       "      <td>['B07BQXC688', 'B07D1VJS1B', 'B07DM4K3CY', 'B0...</td>\n",
       "      <td>{}</td>\n",
       "      <td>&lt;img src=\"https://images-na.ssl-images-amazon....</td>\n",
       "      <td>NaN</td>\n",
       "      <td>&lt;div class=\"a-fixed-left-grid a-spacing-none\"&gt;...</td>\n",
       "      <td>$15.99</td>\n",
       "      <td>B001SM0OZK</td>\n",
       "    </tr>\n",
       "    <tr>\n",
       "      <th>553</th>\n",
       "      <td>96247</td>\n",
       "      <td>['Clothing, Shoes &amp; Jewelry', 'Women', 'Clothi...</td>\n",
       "      <td>NaN</td>\n",
       "      <td>['Lace-trimmed underwire bra is the perfect co...</td>\n",
       "      <td>class=\"a-normal a-align-center a-spacing-smal...</td>\n",
       "      <td>Hanes Women`s Everyday Classic Underwire Bra</td>\n",
       "      <td>['B00UN8D3BC', 'B00UN8EQG8', 'B00GMJ2F9C', 'B0...</td>\n",
       "      <td>['https://images-na.ssl-images-amazon.com/imag...</td>\n",
       "      <td>NaN</td>\n",
       "      <td>NaN</td>\n",
       "      <td>['nylon, polyester, spandex', 'Hook and Eye cl...</td>\n",
       "      <td>137,212 in Clothing, Shoes &amp; Jewelry (</td>\n",
       "      <td>['B00UN8D3BC', 'B00GMJ2F9C', 'B00UN8EQG8', 'B0...</td>\n",
       "      <td>{}</td>\n",
       "      <td>&lt;img src=\"https://images-na.ssl-images-amazon....</td>\n",
       "      <td>NaN</td>\n",
       "      <td>&lt;div class=\"a-fixed-left-grid a-spacing-none\"&gt;...</td>\n",
       "      <td>$13.99 - $19.88</td>\n",
       "      <td>B002WJLBFU</td>\n",
       "    </tr>\n",
       "    <tr>\n",
       "      <th>5304</th>\n",
       "      <td>14301</td>\n",
       "      <td>['Clothing, Shoes &amp; Jewelry', 'Baby', 'Baby Gi...</td>\n",
       "      <td>NaN</td>\n",
       "      <td>['Dress her for dreamtime like the princess yo...</td>\n",
       "      <td>NaN</td>\n",
       "      <td>Baby Aspen Baby-girls Newborn Big Dreamzzz Pri...</td>\n",
       "      <td>['B005VIFUEC', 'B0727X6119', 'B00X22RIOY', 'B0...</td>\n",
       "      <td>['https://images-na.ssl-images-amazon.com/imag...</td>\n",
       "      <td>NaN</td>\n",
       "      <td>Baby Aspen</td>\n",
       "      <td>[]</td>\n",
       "      <td>[]</td>\n",
       "      <td>['B0727X6119', 'B00PGMP93K', 'B005VIFUEC', 'B0...</td>\n",
       "      <td>{}</td>\n",
       "      <td>Baby</td>\n",
       "      <td>NaN</td>\n",
       "      <td>NaN</td>\n",
       "      <td>$22.09</td>\n",
       "      <td>B00C0K0MHO</td>\n",
       "    </tr>\n",
       "    <tr>\n",
       "      <th>2880</th>\n",
       "      <td>2166</td>\n",
       "      <td>['Clothing, Shoes &amp; Jewelry', 'Men', 'Clothing...</td>\n",
       "      <td>NaN</td>\n",
       "      <td>['Van Heusen regular fit flex collar long slee...</td>\n",
       "      <td>class=\"a-normal a-align-center a-spacing-smal...</td>\n",
       "      <td>Van Heusen Men's Flex Regular Fit Solid Spread...</td>\n",
       "      <td>['B07976STYP', 'B00C7P5HKE', 'B008R50SZM', 'B0...</td>\n",
       "      <td>['https://images-na.ssl-images-amazon.com/imag...</td>\n",
       "      <td>NaN</td>\n",
       "      <td>NaN</td>\n",
       "      <td>['55% Cotton, 45% Polyester', 'Imported', 'But...</td>\n",
       "      <td>3,700 in Clothing, Shoes &amp; Jewelry (</td>\n",
       "      <td>['B00C7P5HKE', 'B009F8R15A', 'B07976STYP', 'B0...</td>\n",
       "      <td>{}</td>\n",
       "      <td>&lt;img src=\"https://images-na.ssl-images-amazon....</td>\n",
       "      <td>NaN</td>\n",
       "      <td>&lt;div class=\"a-fixed-left-grid a-spacing-none\"&gt;...</td>\n",
       "      <td>$20.11 - $126.35</td>\n",
       "      <td>B014128YZU</td>\n",
       "    </tr>\n",
       "  </tbody>\n",
       "</table>\n",
       "</div>"
      ],
      "text/plain": [
       "      Unnamed: 0                                           category tech1   \n",
       "4895       47670  ['Clothing, Shoes & Jewelry', 'Women', 'Shoes'...   NaN  \\\n",
       "458        43530  ['Clothing, Shoes & Jewelry', 'Women', 'Handba...   NaN   \n",
       "553        96247  ['Clothing, Shoes & Jewelry', 'Women', 'Clothi...   NaN   \n",
       "5304       14301  ['Clothing, Shoes & Jewelry', 'Baby', 'Baby Gi...   NaN   \n",
       "2880        2166  ['Clothing, Shoes & Jewelry', 'Men', 'Clothing...   NaN   \n",
       "\n",
       "                                            description   \n",
       "4895  ['The iconic chuck taylor all star high top sn...  \\\n",
       "458   ['No matter the weather, this durable tote is ...   \n",
       "553   ['Lace-trimmed underwire bra is the perfect co...   \n",
       "5304  ['Dress her for dreamtime like the princess yo...   \n",
       "2880  ['Van Heusen regular fit flex collar long slee...   \n",
       "\n",
       "                                                    fit   \n",
       "4895   class=\"a-normal a-align-center a-spacing-smal...  \\\n",
       "458                                                 NaN   \n",
       "553    class=\"a-normal a-align-center a-spacing-smal...   \n",
       "5304                                                NaN   \n",
       "2880   class=\"a-normal a-align-center a-spacing-smal...   \n",
       "\n",
       "                                                  title   \n",
       "4895  Converse Women's Chuck Taylor All Star Leather...  \\\n",
       "458                              Deluxe Canvas Tote Bag   \n",
       "553        Hanes Women`s Everyday Classic Underwire Bra   \n",
       "5304  Baby Aspen Baby-girls Newborn Big Dreamzzz Pri...   \n",
       "2880  Van Heusen Men's Flex Regular Fit Solid Spread...   \n",
       "\n",
       "                                               also_buy   \n",
       "4895  ['B074V4DTPL', 'B0774PWGRQ', 'B07BS1P8T5', 'B0...  \\\n",
       "458   ['B07BQXC688', 'B07DM4K3CY', 'B0027A7K2C', 'B0...   \n",
       "553   ['B00UN8D3BC', 'B00UN8EQG8', 'B00GMJ2F9C', 'B0...   \n",
       "5304  ['B005VIFUEC', 'B0727X6119', 'B00X22RIOY', 'B0...   \n",
       "2880  ['B07976STYP', 'B00C7P5HKE', 'B008R50SZM', 'B0...   \n",
       "\n",
       "                                                  image  tech2        brand   \n",
       "4895  ['https://images-na.ssl-images-amazon.com/imag...    NaN          NaN  \\\n",
       "458   ['https://images-na.ssl-images-amazon.com/imag...    NaN  Ensign Peak   \n",
       "553   ['https://images-na.ssl-images-amazon.com/imag...    NaN          NaN   \n",
       "5304  ['https://images-na.ssl-images-amazon.com/imag...    NaN   Baby Aspen   \n",
       "2880  ['https://images-na.ssl-images-amazon.com/imag...    NaN          NaN   \n",
       "\n",
       "                                                feature   \n",
       "4895  ['100% Leather', 'Imported', 'Rubber sole', 'S...  \\\n",
       "458   ['22 inch handles', 'Interoir zippered pocket'...   \n",
       "553   ['nylon, polyester, spandex', 'Hook and Eye cl...   \n",
       "5304                                                 []   \n",
       "2880  ['55% Cotton, 45% Polyester', 'Imported', 'But...   \n",
       "\n",
       "                                        rank   \n",
       "4895   31,038 in Clothing, Shoes & Jewelry (  \\\n",
       "458   380,644 in Clothing, Shoes & Jewelry (   \n",
       "553   137,212 in Clothing, Shoes & Jewelry (   \n",
       "5304                                      []   \n",
       "2880    3,700 in Clothing, Shoes & Jewelry (   \n",
       "\n",
       "                                              also_view details   \n",
       "4895  ['B078J5W5Z2', 'B074V4DTPL', 'B0741XXSRZ', 'B0...      {}  \\\n",
       "458   ['B07BQXC688', 'B07D1VJS1B', 'B07DM4K3CY', 'B0...      {}   \n",
       "553   ['B00UN8D3BC', 'B00GMJ2F9C', 'B00UN8EQG8', 'B0...      {}   \n",
       "5304  ['B0727X6119', 'B00PGMP93K', 'B005VIFUEC', 'B0...      {}   \n",
       "2880  ['B00C7P5HKE', 'B009F8R15A', 'B07976STYP', 'B0...      {}   \n",
       "\n",
       "                                               main_cat similar_item   \n",
       "4895  <img src=\"https://images-na.ssl-images-amazon....          NaN  \\\n",
       "458   <img src=\"https://images-na.ssl-images-amazon....          NaN   \n",
       "553   <img src=\"https://images-na.ssl-images-amazon....          NaN   \n",
       "5304                                               Baby          NaN   \n",
       "2880  <img src=\"https://images-na.ssl-images-amazon....          NaN   \n",
       "\n",
       "                                                   date             price   \n",
       "4895  <div class=\"a-fixed-left-grid a-spacing-none\">...  $44.49 - $135.47  \\\n",
       "458   <div class=\"a-fixed-left-grid a-spacing-none\">...            $15.99   \n",
       "553   <div class=\"a-fixed-left-grid a-spacing-none\">...   $13.99 - $19.88   \n",
       "5304                                                NaN            $22.09   \n",
       "2880  <div class=\"a-fixed-left-grid a-spacing-none\">...  $20.11 - $126.35   \n",
       "\n",
       "            asin  \n",
       "4895  B007PBF3B8  \n",
       "458   B001SM0OZK  \n",
       "553   B002WJLBFU  \n",
       "5304  B00C0K0MHO  \n",
       "2880  B014128YZU  "
      ]
     },
     "execution_count": 4,
     "metadata": {},
     "output_type": "execute_result"
    }
   ],
   "source": [
    "metadata.sample(5)"
   ]
  },
  {
   "cell_type": "code",
   "execution_count": 133,
   "metadata": {},
   "outputs": [],
   "source": [
    "metadata.detailed_text = metadata['category'].apply(lambda x: ' '.join(eval(x)[1:]))"
   ]
  },
  {
   "cell_type": "code",
   "execution_count": 144,
   "metadata": {},
   "outputs": [
    {
     "name": "stderr",
     "output_type": "stream",
     "text": [
      "/var/folders/qj/0ym5ps652l76x64w3xg4ktw00000gn/T/ipykernel_23326/3819536600.py:8: UserWarning: Pandas doesn't allow columns to be created via a new attribute name - see https://pandas.pydata.org/pandas-docs/stable/indexing.html#attribute-access\n",
      "  metadata.cleaned_features = metadata.feature.apply(lambda x: eval(x)[:4])\n"
     ]
    }
   ],
   "source": [
    "# import re\n",
    "# CLEANR = re.compile('<.*?>|&([a-z0-9]+|#[0-9]{1,6}|#x[0-9a-f]{1,6});')\n",
    "\n",
    "# def cleanhtml(raw_html):\n",
    "#   cleantext = re.sub(CLEANR, '', raw_html)\n",
    "#   return cleantext\n",
    "\n",
    "metadata.cleaned_features = metadata.feature.apply(lambda x: eval(x)[:4])"
   ]
  },
  {
   "cell_type": "code",
   "execution_count": 140,
   "metadata": {},
   "outputs": [
    {
     "data": {
      "text/plain": [
       "[\"['Move worry-free with this wireless sports bra from Enell. Made from high quality Nylon and LYCRA, this sports bra prevents skin chafing while providing optimum support. The front hook closure helps you wear or take off the bra easily. Contructed with Naturexx Performance Fabric that wicks away moisture to keep you cool and odor-free during the most intense workouts']\",\n",
       " \"['Soft and smooth suede upper. Pull-on design. Smooth faux fur lining and insole to keep you warm in cold temperatures. Cushioned synthetic smooth fur footbed. Mid-calf, approximately 11.25-inch shaft height. Approximately 15-inch circumference. Approximately 0.75-inch man-made outsole with treads. Flat heel.']\",\n",
       " '[\"The Hanes men\\'s comfort blend EcoSmart sweatpants are made with different front and back measurements, so they actually fit. They\\'re also made with up to 5 percent recycled polyester from plastic bottles, so you can look good and feel good.\"]',\n",
       " '[\"Men\\'s Nike Zoom Train Incredibly Fast Training Shoe is designed for running and cutting without losing responsiveness. Flywire cables cross together to create a chain link design that pushes back on your foot as you cut for a locked-down fit. A Zoom Air unit in the forefoot adds responsive cushioning.\"]',\n",
       " \"['Feel the comfort and enjoy the lightweight construction of Nike Shox NZ EU running shoes. This responsive running sneaker features a combination leather and mesh upper, gilly lacing system for a lockdown fit, Nike Shox columns that provides ample cushioning/impact resistance, and a blown rubber outsole with waffle pattern.']\",\n",
       " \"['You will feel like its a whole new world when you cozy up in this Deer Stag Slipperooz slipper, A micro suede upper with a faux sherling lining will give you the comfort you are looking for, The slipper features a high density footbed, bumper to protect yoe from scuffing, slip-last construction, durable outer dole, cushion heel insert for shock absorption and compression nodules for added comfort, Made in China of micro suede upper balance man made materials']\"]"
      ]
     },
     "execution_count": 140,
     "metadata": {},
     "output_type": "execute_result"
    }
   ],
   "source": [
    "metadata.feature.iloc[[34,4576,282,4519,259,957]].to_list()"
   ]
  },
  {
   "cell_type": "code",
   "execution_count": 7,
   "metadata": {},
   "outputs": [
    {
     "data": {
      "text/plain": [
       "[\"Enell Women's Wire-Free Sports Bra\",\n",
       " 'Converse Chuck Taylor All Star Core Ox',\n",
       " 'Aeromax Jr. Fire Fighter Bunker Gear, Black, Size 4/6',\n",
       " \"Stacy Adams Men's Garrison Wingtip Oxford\"]"
      ]
     },
     "execution_count": 7,
     "metadata": {},
     "output_type": "execute_result"
    }
   ],
   "source": [
    "metadata.title.iloc[1:5].to_list()"
   ]
  },
  {
   "cell_type": "code",
   "execution_count": 12,
   "metadata": {},
   "outputs": [
    {
     "data": {
      "text/plain": [
       "Index(['Unnamed: 0', 'category', 'tech1', 'description', 'fit', 'title',\n",
       "       'also_buy', 'image', 'tech2', 'brand', 'feature', 'rank', 'also_view',\n",
       "       'details', 'main_cat', 'similar_item', 'date', 'price', 'asin'],\n",
       "      dtype='object')"
      ]
     },
     "execution_count": 12,
     "metadata": {},
     "output_type": "execute_result"
    }
   ],
   "source": [
    "metadata.columns"
   ]
  },
  {
   "cell_type": "code",
   "execution_count": 31,
   "metadata": {},
   "outputs": [],
   "source": [
    "# metadata['product_detail'] = metadata.map(lambda x: \n",
    "#                                         #  x.title + \n",
    "#                                         #  eval(x.category)[1:]\n",
    "#                                         x['title']\n",
    "#                                         #  eval(x['category'])[1:] +\n",
    "#                                         #  x['description'] +\n",
    "#                                         #  eval(x['feature'])[:4]\n",
    "#                                          )\n",
    "\n"
   ]
  },
  {
   "cell_type": "code",
   "execution_count": 32,
   "metadata": {},
   "outputs": [
    {
     "data": {
      "text/plain": [
       "['Monsta Clothing Co. Men\\'s Unleash Savage Aggression (TEE23) T-shirt Novelty & More Clothing Novelty Men Shirts T-Shirts 100% (6.1 oz) Preshrunk Cotton Athletic Cut (Loose Fit) Printing Color: Red, White and Blue Machine Wash Cold (inside-out) Hang Dry for Best Long-Term Care [\\'Short-sleeve t-shirt for the hard-core bodybuilder, powerlifter or weightlifter alike. The MC-Monsta USA Flag icon dawns the front; and the USA \"Unleash Savage Aggression\" runs down your massive back. If you push the limits like you push the iron then Monsta Clothing bodybuilding, powerlifting, weightlifting, workout clothes, and overall fitness apparel is for you. WARNING! You just might unleash the beast.\\'] 100% (6.1 oz) Preshrunk Cotton Athletic Cut (Loose Fit) Printing Color: Red, White and Blue Machine Wash Cold (inside-out)',\n",
       " \"YEESAM Muslim Swimsuit Islamic Full Cover Modest Swimwear Beachwear Burkini Women Clothing ['<br /> \\\\n<br /> \\\\n<b>Assalam Alaikum!<br />Find more great new arrival products to our shop - U.R.Beautiful <br /><br />Tips to Buy</b> \\\\n<br /> We use the \\\\n<b>Int&apos;l Clothing Size Table</b> as below. \\\\n<b>Please do not confuse with the Amazon General Size/Europe size/US size etc.</b> \\\\n<br /> Fabrics have a certain flexibility, and there are still 1-2cm measurement errors. \\\\n<br /> If you want to make sure the Modest style, you might consider a bit larger size. But, that is only our advice, you should decide by yourself! \\\\n<b> <br /> In order to avoid the inconvenience of return or exchange, please carefully choose your own size, especially please pay attention to the bust size.</b> \\\\n<br /> \\\\n<br /> \\\\n<b>Int&apos;l Clothing Size Table</b> \\\\n<br />1 inch = 2.54 cm \\\\n<br /> \\\\n<br />Int&apos;l S ~~ Ref. US Size 2-4 \\\\n<br />Bust: 89 cm / 35 inches, Waist: 74 cm, Trouser: 96 cm \\\\n<br /> \\\\n<br />Int&apos;l M ~~ Ref. US Size 4-6 \\\\n<br />Bust: 93 cm / 37 inches, Waist: 78 cm, Trouser: 98 cm \\\\n<br /> \\\\n<br />Int&apos;l L ~~ Ref. US Size 6-8 \\\\n<br />Bust: 97 cm / 38 inches, Waist: 82 cm, Trouser: 100 cm \\\\n<br /> \\\\n<br />Int&apos;l XL ~~ Ref. US Size 8-10 \\\\n<br />Bust: 101 cm / 40 inches, Waist: 86 cm, Trouser: 102 cm \\\\n<br /> \\\\n<br />Int&apos;l 2XL ~~ Ref. US Size 10-12 \\\\n<br />Bust: 105 cm / 41 inches, Waist: 90 cm, Trouser: 104 cm \\\\n<br /> \\\\n<br />Int&apos;l 3XL ~~ Ref. US Size 12-14 \\\\n<br />Bust: 109 cm / 43 inches, Waist: 94 cm, Trouser: 106 cm \\\\n<br /> \\\\n<br />Int&apos;l 4XL ~~ Ref. US Size 14-16 \\\\n<br />Bust: 113 cm / 44 inches, Waist: 98 cm, Trouser: 108 cm \\\\n<br /> \\\\n<br /> \\\\n<br /> \\\\n<b>YEESAM</b> was founded in 2010 in Hong Kong with a goal to provide quality clothing at unbeatable prices. Our \\\\n<b>M&amp;M</b> line offers \\\\n<b>M</b>odest cover up or \\\\n<b>M</b>uslim swimwear for all. \\\\n<br /> \\\\n<br />'] Color: Show as pictures. There might be a little color difference due to the monitor, camera or other factors. ~~ Ideal Design for Muslimah to Swimming Pools or Seaside with full confidence, safe within the understanding that they're improving their Islamic values. This style of swimsuit has a tie from the top to the pants to keep the top from riding up while swimming. ~~ Now, Islamic ladies may enjoy swimming in all 4 seasons due to the number of appropriate Islamic swimwear at hand! S (US Size 2-4) - M (US Size 4-6) - L (US Size 6-8) - XL (US Size 8-10) - 2XL (US Size 10-12) - 3XL (US Size 12-14) ~~ In order to avoid the inconvenience of return or exchange, please carefully choose your own size, especially please pay attention to the bust size. You may find the specific size data in the product description. Excellent Quality Material: 80% Polyester + 20% Spandex, a very light material easy to dry, UV protection, and no color fading. Design to stick to your body while in the water but then becomes loose when you are out of the water. The top quality Polyester fabric is water-repellent, Swimming pool water resistant, as well as provides defense against ultraviolet sun rays. The benefit of utilizing a Polyester material is it has low water absorbency, dries fast and guarantees complete stretch in most directions resulting in total comfort although swimming or taking part in aqua-sporting activities. ~~ Our full cover swimsuits not only fit Muslim women, but also other women and even men who love the Modest style of swimwear or need full coverage to escape the sun light, and even can be used to diving, surfing, etc.\",\n",
       " \"Dansko Women's Silvie Platform Sandal Women Shoes ['A curvy, slimming sandal, silvie uses its flexible platform wedge to offer a more stable and comfortable experience when walking and standing. additional benefits include an adjustable strap and a cushioned footbed.'] 100% Leather Imported Synthetic sole Platform measures approximately 1.5 inches\",\n",
       " 'Schutz Women\\'s Enida Dress Sandal Women Shoes Sandals Heeled Sandals [\\'Open toe sandal with block heel\\'] Leather Imported Leather sole Heel measures approximately 3.75\"',\n",
       " \"Vans Old Skool Unisex Adults' Low-Top Trainers Men Shoes Athletic Skateboarding ['Old Skool lives on! A skate classic from Vans, the Old Skool represents timeless skate style with durability that keeps on giving. Features a synthetic upper, signature side stripe, and padded tongue and collar for comfort and protection..'] 100% Canvas Imported Rubber sole Represents timeless skate style\"]"
      ]
     },
     "execution_count": 32,
     "metadata": {},
     "output_type": "execute_result"
    }
   ],
   "source": [
    "metadata['product_detail'].sample(5).to_list()"
   ]
  },
  {
   "cell_type": "code",
   "execution_count": 44,
   "metadata": {},
   "outputs": [],
   "source": [
    "import pickle\n",
    "\n",
    "with open('../Output/image_vector_dict.pickle', 'rb') as file:\n",
    "    image_vec_dict = pickle.load(file)\n",
    "\n",
    "with open('../Output/Image_similar_items_dict.pickle', 'rb') as file:\n",
    "    image_sim_items = pickle.load(file)"
   ]
  },
  {
   "cell_type": "code",
   "execution_count": 43,
   "metadata": {},
   "outputs": [
    {
     "data": {
      "text/plain": [
       "torch.Size([512])"
      ]
     },
     "execution_count": 43,
     "metadata": {},
     "output_type": "execute_result"
    }
   ],
   "source": [
    "image_vec_dict['B000072UMA_0.jpg'].shape"
   ]
  },
  {
   "cell_type": "code",
   "execution_count": 45,
   "metadata": {},
   "outputs": [
    {
     "data": {
      "text/plain": [
       "5543"
      ]
     },
     "execution_count": 45,
     "metadata": {},
     "output_type": "execute_result"
    }
   ],
   "source": [
    "len(image_sim_items.keys())"
   ]
  },
  {
   "cell_type": "code",
   "execution_count": 55,
   "metadata": {},
   "outputs": [],
   "source": [
    "# Create Image Indicator\n",
    "ind_image = {}\n",
    "for asin, similar_products in image_sim_items.items():\n",
    "    if similar_products == 0:\n",
    "        ind_image[asin] = False\n",
    "    else:\n",
    "        ind_image[asin] = True\n",
    "\n",
    "with open('../Output/Image_ind_dict.pickle', 'wb') as file:\n",
    "    pickle.dump(ind_image, file, protocol=pickle.HIGHEST_PROTOCOL)"
   ]
  },
  {
   "cell_type": "code",
   "execution_count": 57,
   "metadata": {},
   "outputs": [
    {
     "data": {
      "text/plain": [
       "True"
      ]
     },
     "execution_count": 57,
     "metadata": {},
     "output_type": "execute_result"
    }
   ],
   "source": [
    "ind_image['B004BOU5TM']"
   ]
  },
  {
   "cell_type": "code",
   "execution_count": 51,
   "metadata": {},
   "outputs": [],
   "source": [
    "from PIL import Image\n",
    "\n",
    "Image.open('../Project_Data/Image')"
   ]
  },
  {
   "cell_type": "code",
   "execution_count": 52,
   "metadata": {},
   "outputs": [],
   "source": [
    "with open('../Output/asin_mapping.pickle', 'rb') as file:\n",
    "   asin_mapp = pickle.load(file)\n",
    "asin_mapp"
   ]
  },
  {
   "cell_type": "code",
   "execution_count": 62,
   "metadata": {},
   "outputs": [
    {
     "name": "stdout",
     "output_type": "stream",
     "text": [
      "Collecting contextualSpellCheck\n",
      "  Using cached contextualSpellCheck-0.4.3-py3-none-any.whl (128 kB)\n",
      "Requirement already satisfied: torch>=1.4 in /Users/hraghu/opt/anaconda3/envs/stylemate/lib/python3.11/site-packages (from contextualSpellCheck) (2.0.0)\n",
      "Collecting editdistance==0.6.0 (from contextualSpellCheck)\n",
      "  Using cached editdistance-0.6.0.tar.gz (29 kB)\n",
      "  Preparing metadata (setup.py) ... \u001b[?25ldone\n",
      "\u001b[?25hRequirement already satisfied: transformers>=4.0.0 in /Users/hraghu/opt/anaconda3/envs/stylemate/lib/python3.11/site-packages (from contextualSpellCheck) (4.28.1)\n",
      "Collecting spacy>=3.0.0 (from contextualSpellCheck)\n",
      "  Using cached spacy-3.5.2-cp311-cp311-macosx_10_9_x86_64.whl (6.8 MB)\n",
      "Collecting spacy-legacy<3.1.0,>=3.0.11 (from spacy>=3.0.0->contextualSpellCheck)\n",
      "  Using cached spacy_legacy-3.0.12-py2.py3-none-any.whl (29 kB)\n",
      "Collecting spacy-loggers<2.0.0,>=1.0.0 (from spacy>=3.0.0->contextualSpellCheck)\n",
      "  Using cached spacy_loggers-1.0.4-py3-none-any.whl (11 kB)\n",
      "Collecting murmurhash<1.1.0,>=0.28.0 (from spacy>=3.0.0->contextualSpellCheck)\n",
      "  Using cached murmurhash-1.0.9-cp311-cp311-macosx_10_9_x86_64.whl (18 kB)\n",
      "Collecting cymem<2.1.0,>=2.0.2 (from spacy>=3.0.0->contextualSpellCheck)\n",
      "  Using cached cymem-2.0.7-cp311-cp311-macosx_10_9_x86_64.whl (31 kB)\n",
      "Collecting preshed<3.1.0,>=3.0.2 (from spacy>=3.0.0->contextualSpellCheck)\n",
      "  Using cached preshed-3.0.8-cp311-cp311-macosx_10_9_x86_64.whl (103 kB)\n",
      "Collecting thinc<8.2.0,>=8.1.8 (from spacy>=3.0.0->contextualSpellCheck)\n",
      "  Using cached thinc-8.1.9-cp311-cp311-macosx_10_9_x86_64.whl (848 kB)\n",
      "Collecting wasabi<1.2.0,>=0.9.1 (from spacy>=3.0.0->contextualSpellCheck)\n",
      "  Using cached wasabi-1.1.1-py3-none-any.whl (27 kB)\n",
      "Collecting srsly<3.0.0,>=2.4.3 (from spacy>=3.0.0->contextualSpellCheck)\n",
      "  Using cached srsly-2.4.6-cp311-cp311-macosx_10_9_x86_64.whl (489 kB)\n",
      "Collecting catalogue<2.1.0,>=2.0.6 (from spacy>=3.0.0->contextualSpellCheck)\n",
      "  Using cached catalogue-2.0.8-py3-none-any.whl (17 kB)\n",
      "Collecting typer<0.8.0,>=0.3.0 (from spacy>=3.0.0->contextualSpellCheck)\n",
      "  Using cached typer-0.7.0-py3-none-any.whl (38 kB)\n",
      "Collecting pathy>=0.10.0 (from spacy>=3.0.0->contextualSpellCheck)\n",
      "  Using cached pathy-0.10.1-py3-none-any.whl (48 kB)\n",
      "Collecting smart-open<7.0.0,>=5.2.1 (from spacy>=3.0.0->contextualSpellCheck)\n",
      "  Using cached smart_open-6.3.0-py3-none-any.whl (56 kB)\n",
      "Requirement already satisfied: tqdm<5.0.0,>=4.38.0 in /Users/hraghu/opt/anaconda3/envs/stylemate/lib/python3.11/site-packages (from spacy>=3.0.0->contextualSpellCheck) (4.65.0)\n",
      "Requirement already satisfied: numpy>=1.15.0 in /Users/hraghu/opt/anaconda3/envs/stylemate/lib/python3.11/site-packages (from spacy>=3.0.0->contextualSpellCheck) (1.24.3)\n",
      "Requirement already satisfied: requests<3.0.0,>=2.13.0 in /Users/hraghu/opt/anaconda3/envs/stylemate/lib/python3.11/site-packages (from spacy>=3.0.0->contextualSpellCheck) (2.29.0)\n",
      "Collecting pydantic!=1.8,!=1.8.1,<1.11.0,>=1.7.4 (from spacy>=3.0.0->contextualSpellCheck)\n",
      "  Using cached pydantic-1.10.7-cp311-cp311-macosx_10_9_x86_64.whl (2.8 MB)\n",
      "Requirement already satisfied: jinja2 in /Users/hraghu/opt/anaconda3/envs/stylemate/lib/python3.11/site-packages (from spacy>=3.0.0->contextualSpellCheck) (3.1.2)\n",
      "Requirement already satisfied: setuptools in /Users/hraghu/opt/anaconda3/envs/stylemate/lib/python3.11/site-packages (from spacy>=3.0.0->contextualSpellCheck) (67.7.2)\n",
      "Requirement already satisfied: packaging>=20.0 in /Users/hraghu/opt/anaconda3/envs/stylemate/lib/python3.11/site-packages (from spacy>=3.0.0->contextualSpellCheck) (23.1)\n",
      "Collecting langcodes<4.0.0,>=3.2.0 (from spacy>=3.0.0->contextualSpellCheck)\n",
      "  Using cached langcodes-3.3.0-py3-none-any.whl (181 kB)\n",
      "Requirement already satisfied: filelock in /Users/hraghu/opt/anaconda3/envs/stylemate/lib/python3.11/site-packages (from torch>=1.4->contextualSpellCheck) (3.12.0)\n",
      "Requirement already satisfied: typing-extensions in /Users/hraghu/opt/anaconda3/envs/stylemate/lib/python3.11/site-packages (from torch>=1.4->contextualSpellCheck) (4.5.0)\n",
      "Requirement already satisfied: sympy in /Users/hraghu/opt/anaconda3/envs/stylemate/lib/python3.11/site-packages (from torch>=1.4->contextualSpellCheck) (1.11.1)\n",
      "Requirement already satisfied: networkx in /Users/hraghu/opt/anaconda3/envs/stylemate/lib/python3.11/site-packages (from torch>=1.4->contextualSpellCheck) (3.1)\n",
      "Requirement already satisfied: huggingface-hub<1.0,>=0.11.0 in /Users/hraghu/opt/anaconda3/envs/stylemate/lib/python3.11/site-packages (from transformers>=4.0.0->contextualSpellCheck) (0.14.1)\n",
      "Requirement already satisfied: pyyaml>=5.1 in /Users/hraghu/opt/anaconda3/envs/stylemate/lib/python3.11/site-packages (from transformers>=4.0.0->contextualSpellCheck) (6.0)\n",
      "Requirement already satisfied: regex!=2019.12.17 in /Users/hraghu/opt/anaconda3/envs/stylemate/lib/python3.11/site-packages (from transformers>=4.0.0->contextualSpellCheck) (2023.3.23)\n",
      "Requirement already satisfied: tokenizers!=0.11.3,<0.14,>=0.11.1 in /Users/hraghu/opt/anaconda3/envs/stylemate/lib/python3.11/site-packages (from transformers>=4.0.0->contextualSpellCheck) (0.13.3)\n",
      "Requirement already satisfied: fsspec in /Users/hraghu/opt/anaconda3/envs/stylemate/lib/python3.11/site-packages (from huggingface-hub<1.0,>=0.11.0->transformers>=4.0.0->contextualSpellCheck) (2023.4.0)\n",
      "Requirement already satisfied: charset-normalizer<4,>=2 in /Users/hraghu/opt/anaconda3/envs/stylemate/lib/python3.11/site-packages (from requests<3.0.0,>=2.13.0->spacy>=3.0.0->contextualSpellCheck) (3.1.0)\n",
      "Requirement already satisfied: idna<4,>=2.5 in /Users/hraghu/opt/anaconda3/envs/stylemate/lib/python3.11/site-packages (from requests<3.0.0,>=2.13.0->spacy>=3.0.0->contextualSpellCheck) (3.4)\n",
      "Requirement already satisfied: urllib3<1.27,>=1.21.1 in /Users/hraghu/opt/anaconda3/envs/stylemate/lib/python3.11/site-packages (from requests<3.0.0,>=2.13.0->spacy>=3.0.0->contextualSpellCheck) (1.26.15)\n",
      "Requirement already satisfied: certifi>=2017.4.17 in /Users/hraghu/opt/anaconda3/envs/stylemate/lib/python3.11/site-packages (from requests<3.0.0,>=2.13.0->spacy>=3.0.0->contextualSpellCheck) (2022.12.7)\n",
      "Collecting blis<0.8.0,>=0.7.8 (from thinc<8.2.0,>=8.1.8->spacy>=3.0.0->contextualSpellCheck)\n",
      "  Using cached blis-0.7.9-cp311-cp311-macosx_10_9_x86_64.whl (6.1 MB)\n",
      "Collecting confection<1.0.0,>=0.0.1 (from thinc<8.2.0,>=8.1.8->spacy>=3.0.0->contextualSpellCheck)\n",
      "  Using cached confection-0.0.4-py3-none-any.whl (32 kB)\n",
      "Requirement already satisfied: click<9.0.0,>=7.1.1 in /Users/hraghu/opt/anaconda3/envs/stylemate/lib/python3.11/site-packages (from typer<0.8.0,>=0.3.0->spacy>=3.0.0->contextualSpellCheck) (8.1.3)\n",
      "Requirement already satisfied: MarkupSafe>=2.0 in /Users/hraghu/opt/anaconda3/envs/stylemate/lib/python3.11/site-packages (from jinja2->spacy>=3.0.0->contextualSpellCheck) (2.1.2)\n",
      "Requirement already satisfied: mpmath>=0.19 in /Users/hraghu/opt/anaconda3/envs/stylemate/lib/python3.11/site-packages (from sympy->torch>=1.4->contextualSpellCheck) (1.3.0)\n",
      "Building wheels for collected packages: editdistance\n",
      "  Building wheel for editdistance (setup.py) ... \u001b[?25lerror\n",
      "  \u001b[1;31merror\u001b[0m: \u001b[1msubprocess-exited-with-error\u001b[0m\n",
      "  \n",
      "  \u001b[31m×\u001b[0m \u001b[32mpython setup.py bdist_wheel\u001b[0m did not run successfully.\n",
      "  \u001b[31m│\u001b[0m exit code: \u001b[1;36m1\u001b[0m\n",
      "  \u001b[31m╰─>\u001b[0m \u001b[31m[20 lines of output]\u001b[0m\n",
      "  \u001b[31m   \u001b[0m running bdist_wheel\n",
      "  \u001b[31m   \u001b[0m running build\n",
      "  \u001b[31m   \u001b[0m running build_py\n",
      "  \u001b[31m   \u001b[0m creating build\n",
      "  \u001b[31m   \u001b[0m creating build/lib.macosx-10.9-x86_64-cpython-311\n",
      "  \u001b[31m   \u001b[0m creating build/lib.macosx-10.9-x86_64-cpython-311/editdistance\n",
      "  \u001b[31m   \u001b[0m copying editdistance/__init__.py -> build/lib.macosx-10.9-x86_64-cpython-311/editdistance\n",
      "  \u001b[31m   \u001b[0m copying editdistance/_editdistance.h -> build/lib.macosx-10.9-x86_64-cpython-311/editdistance\n",
      "  \u001b[31m   \u001b[0m copying editdistance/def.h -> build/lib.macosx-10.9-x86_64-cpython-311/editdistance\n",
      "  \u001b[31m   \u001b[0m running build_ext\n",
      "  \u001b[31m   \u001b[0m building 'editdistance.bycython' extension\n",
      "  \u001b[31m   \u001b[0m creating build/temp.macosx-10.9-x86_64-cpython-311\n",
      "  \u001b[31m   \u001b[0m creating build/temp.macosx-10.9-x86_64-cpython-311/editdistance\n",
      "  \u001b[31m   \u001b[0m clang -DNDEBUG -fwrapv -O2 -Wall -fPIC -O2 -isystem /Users/hraghu/opt/anaconda3/envs/stylemate/include -fPIC -O2 -isystem /Users/hraghu/opt/anaconda3/envs/stylemate/include -I./editdistance -I/Users/hraghu/opt/anaconda3/envs/stylemate/include/python3.11 -c editdistance/_editdistance.cpp -o build/temp.macosx-10.9-x86_64-cpython-311/editdistance/_editdistance.o\n",
      "  \u001b[31m   \u001b[0m clang -DNDEBUG -fwrapv -O2 -Wall -fPIC -O2 -isystem /Users/hraghu/opt/anaconda3/envs/stylemate/include -fPIC -O2 -isystem /Users/hraghu/opt/anaconda3/envs/stylemate/include -I./editdistance -I/Users/hraghu/opt/anaconda3/envs/stylemate/include/python3.11 -c editdistance/bycython.cpp -o build/temp.macosx-10.9-x86_64-cpython-311/editdistance/bycython.o\n",
      "  \u001b[31m   \u001b[0m editdistance/bycython.cpp:216:12: fatal error: 'longintrepr.h' file not found\n",
      "  \u001b[31m   \u001b[0m   #include \"longintrepr.h\"\n",
      "  \u001b[31m   \u001b[0m            ^~~~~~~~~~~~~~~\n",
      "  \u001b[31m   \u001b[0m 1 error generated.\n",
      "  \u001b[31m   \u001b[0m error: command '/usr/bin/clang' failed with exit code 1\n",
      "  \u001b[31m   \u001b[0m \u001b[31m[end of output]\u001b[0m\n",
      "  \n",
      "  \u001b[1;35mnote\u001b[0m: This error originates from a subprocess, and is likely not a problem with pip.\n",
      "\u001b[31m  ERROR: Failed building wheel for editdistance\u001b[0m\u001b[31m\n",
      "\u001b[0m\u001b[?25h  Running setup.py clean for editdistance\n",
      "Failed to build editdistance\n",
      "\u001b[31mERROR: Could not build wheels for editdistance, which is required to install pyproject.toml-based projects\u001b[0m\u001b[31m\n",
      "\u001b[0m"
     ]
    }
   ],
   "source": [
    "!pip install contextualSpellCheck"
   ]
  },
  {
   "cell_type": "code",
   "execution_count": 61,
   "metadata": {},
   "outputs": [
    {
     "name": "stdout",
     "output_type": "stream",
     "text": [
      "Requirement already satisfied: pip in /Users/hraghu/opt/anaconda3/envs/stylemate/lib/python3.11/site-packages (23.1.2)\n",
      "Requirement already satisfied: install in /Users/hraghu/opt/anaconda3/envs/stylemate/lib/python3.11/site-packages (1.3.5)\n",
      "Collecting editdistance\n",
      "  Downloading editdistance-0.6.2-cp311-cp311-macosx_10_9_x86_64.whl (21 kB)\n",
      "Installing collected packages: editdistance\n",
      "Successfully installed editdistance-0.6.2\n"
     ]
    }
   ],
   "source": [
    "!pip install pip install editdistance"
   ]
  },
  {
   "cell_type": "code",
   "execution_count": 64,
   "metadata": {},
   "outputs": [
    {
     "data": {
      "text/plain": [
       "['something knvef rkvkfvn']"
      ]
     },
     "execution_count": 64,
     "metadata": {},
     "output_type": "execute_result"
    }
   ],
   "source": [
    "reviews = 'something knvef rkvkfvn'\n",
    "reviews.split('_')"
   ]
  },
  {
   "cell_type": "code",
   "execution_count": null,
   "metadata": {},
   "outputs": [],
   "source": []
  }
 ],
 "metadata": {
  "kernelspec": {
   "display_name": "isr_project",
   "language": "python",
   "name": "python3"
  },
  "language_info": {
   "codemirror_mode": {
    "name": "ipython",
    "version": 3
   },
   "file_extension": ".py",
   "mimetype": "text/x-python",
   "name": "python",
   "nbconvert_exporter": "python",
   "pygments_lexer": "ipython3",
   "version": "3.11.3"
  },
  "orig_nbformat": 4
 },
 "nbformat": 4,
 "nbformat_minor": 2
}
